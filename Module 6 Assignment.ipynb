{
 "cells": [
  {
   "cell_type": "code",
   "execution_count": 1,
   "id": "d0e39f95-c43a-4786-be27-b7450dc53b48",
   "metadata": {},
   "outputs": [],
   "source": [
    "# === CNN Fashion MNIST with 6 layers ===\n",
    "import numpy as np\n",
    "import matplotlib.pyplot as plt\n",
    "from tensorflow.keras.datasets import fashion_mnist\n",
    "from tensorflow.keras.utils import to_categorical\n",
    "from tensorflow.keras.models import Sequential\n",
    "from tensorflow.keras.layers import Conv2D, MaxPooling2D, Flatten, Dense, Dropout\n",
    "from tensorflow.keras import Input"
   ]
  },
  {
   "cell_type": "code",
   "execution_count": 2,
   "id": "d3f6382a-c55c-4a9c-bff3-030dbe6b00fc",
   "metadata": {},
   "outputs": [],
   "source": [
    "# 1. Load data\n",
    "(x_train, y_train), (x_test, y_test) = fashion_mnist.load_data()"
   ]
  },
  {
   "cell_type": "code",
   "execution_count": 3,
   "id": "23eb5540-564b-4c9e-a4b8-65a0be5d77ce",
   "metadata": {},
   "outputs": [],
   "source": [
    "# 2. Preprocessing\n",
    "x_train = x_train.astype(\"float32\") / 255.0\n",
    "x_test = x_test.astype(\"float32\") / 255.0\n",
    "x_train = np.expand_dims(x_train, -1)\n",
    "x_test = np.expand_dims(x_test, -1)\n",
    "y_train = to_categorical(y_train, 10)\n",
    "y_test = to_categorical(y_test, 10)"
   ]
  },
  {
   "cell_type": "code",
   "execution_count": 4,
   "id": "b67759da-63e3-4b33-975c-23f0c3ed6a6a",
   "metadata": {},
   "outputs": [
    {
     "name": "stderr",
     "output_type": "stream",
     "text": [
      "2025-09-23 21:49:20.629543: I metal_plugin/src/device/metal_device.cc:1154] Metal device set to: Apple M1\n",
      "2025-09-23 21:49:20.629566: I metal_plugin/src/device/metal_device.cc:296] systemMemory: 8.00 GB\n",
      "2025-09-23 21:49:20.629572: I metal_plugin/src/device/metal_device.cc:313] maxCacheSize: 2.67 GB\n",
      "2025-09-23 21:49:20.629749: I tensorflow/core/common_runtime/pluggable_device/pluggable_device_factory.cc:305] Could not identify NUMA node of platform GPU ID 0, defaulting to 0. Your kernel may not have been built with NUMA support.\n",
      "2025-09-23 21:49:20.629759: I tensorflow/core/common_runtime/pluggable_device/pluggable_device_factory.cc:271] Created TensorFlow device (/job:localhost/replica:0/task:0/device:GPU:0 with 0 MB memory) -> physical PluggableDevice (device: 0, name: METAL, pci bus id: <undefined>)\n"
     ]
    }
   ],
   "source": [
    "# 3. Build CNN model (6 layers)\n",
    "model = Sequential([\n",
    "    Input(shape=(28,28,1)),         \n",
    "    Conv2D(32, (3,3), activation='relu'),\n",
    "    Conv2D(64, (3,3), activation='relu'),\n",
    "    MaxPooling2D(pool_size=(2,2)),\n",
    "    Flatten(),\n",
    "    Dense(128, activation='relu'),\n",
    "    Dense(10, activation='softmax')\n",
    "])"
   ]
  },
  {
   "cell_type": "code",
   "execution_count": 5,
   "id": "f879f236-73b7-443c-b398-94ccd031a0b0",
   "metadata": {},
   "outputs": [],
   "source": [
    "# 4. Compile\n",
    "model.compile(optimizer='adam',\n",
    "              loss='categorical_crossentropy',\n",
    "              metrics=['accuracy'])"
   ]
  },
  {
   "cell_type": "code",
   "execution_count": 6,
   "id": "f5a7b286-2cdc-4bf4-b06e-5e6f2fb94946",
   "metadata": {},
   "outputs": [
    {
     "name": "stdout",
     "output_type": "stream",
     "text": [
      "Epoch 1/5\n"
     ]
    },
    {
     "name": "stderr",
     "output_type": "stream",
     "text": [
      "2025-09-23 21:49:21.205085: I tensorflow/core/grappler/optimizers/custom_graph_optimizer_registry.cc:117] Plugin optimizer for device_type GPU is enabled.\n"
     ]
    },
    {
     "name": "stdout",
     "output_type": "stream",
     "text": [
      "750/750 - 16s - 22ms/step - accuracy: 0.8494 - loss: 0.4281 - val_accuracy: 0.8888 - val_loss: 0.3090\n",
      "Epoch 2/5\n",
      "750/750 - 15s - 20ms/step - accuracy: 0.8979 - loss: 0.2888 - val_accuracy: 0.8895 - val_loss: 0.3019\n",
      "Epoch 3/5\n",
      "750/750 - 15s - 21ms/step - accuracy: 0.9093 - loss: 0.2578 - val_accuracy: 0.8871 - val_loss: 0.3478\n",
      "Epoch 4/5\n",
      "750/750 - 16s - 21ms/step - accuracy: 0.9069 - loss: 0.2891 - val_accuracy: 0.8924 - val_loss: 0.3835\n",
      "Epoch 5/5\n",
      "750/750 - 15s - 20ms/step - accuracy: 0.9030 - loss: 0.3936 - val_accuracy: 0.8588 - val_loss: 0.8805\n"
     ]
    }
   ],
   "source": [
    "# 5. Train\n",
    "history = model.fit(\n",
    "    x_train, y_train,\n",
    "    epochs=5,\n",
    "    batch_size=64,\n",
    "    validation_split=0.2,\n",
    "    verbose=2\n",
    ")\n"
   ]
  },
  {
   "cell_type": "code",
   "execution_count": 7,
   "id": "bf166e6b-2917-4ec0-b0c8-cde697c57ba7",
   "metadata": {},
   "outputs": [
    {
     "name": "stdout",
     "output_type": "stream",
     "text": [
      "\n",
      "✅ Test accuracy: 0.8570\n"
     ]
    }
   ],
   "source": [
    "# 6. Evaluate\n",
    "test_loss, test_acc = model.evaluate(x_test, y_test, verbose=0)\n",
    "print(f\"\\n✅ Test accuracy: {test_acc:.4f}\")"
   ]
  },
  {
   "cell_type": "code",
   "execution_count": 8,
   "id": "9fd86d63-9e5e-4c6f-a3f8-6d0374e3a64e",
   "metadata": {},
   "outputs": [
    {
     "name": "stdout",
     "output_type": "stream",
     "text": [
      "\u001b[1m1/1\u001b[0m \u001b[32m━━━━━━━━━━━━━━━━━━━━\u001b[0m\u001b[37m\u001b[0m \u001b[1m0s\u001b[0m 53ms/step\n"
     ]
    },
    {
     "data": {
      "image/png": "[encoded data removed]",
      "text/plain": [
       "<Figure size 1200x600 with 5 Axes>"
      ]
     },
     "metadata": {},
     "output_type": "display_data"
    }
   ],
   "source": [
    "# 7. Prediction\n",
    "\n",
    "import numpy as np\n",
    "import matplotlib.pyplot as plt\n",
    "\n",
    "# MNIST Fashion class label\n",
    "class_names = ['T-shirt/top', 'Trouser', 'Pullover', 'Dress', 'Coat',\n",
    "               'Sandal', 'Shirt', 'Sneaker', 'Bag', 'Ankle boot']\n",
    "\n",
    "# 5 random samples from the test set\n",
    "indices = np.random.choice(len(x_test), 5)\n",
    "\n",
    "# Prediction\n",
    "preds = model.predict(x_test[indices])\n",
    "\n",
    "# Plot 5 images in a grid\n",
    "plt.figure(figsize=(12, 6))\n",
    "\n",
    "for i, idx in enumerate(indices):\n",
    "    plt.subplot(1, 5, i+1)\n",
    "    plt.imshow(x_test[idx].squeeze(), cmap=\"gray\", interpolation=\"nearest\")\n",
    "    plt.title(f\"P: {class_names[np.argmax(preds[i])]} \\nT: {class_names[np.argmax(y_test[idx])]}\")\n",
    "    plt.axis(\"off\")\n",
    "\n",
    "plt.tight_layout()\n",
    "plt.show()"
   ]
  },
  {
   "cell_type": "code",
   "execution_count": null,
   "id": "f96d3e5c-d8ba-4d64-96e6-93e2af7d6143",
   "metadata": {},
   "outputs": [],
   "source": []
  }
 ],
 "metadata": {
  "kernelspec": {
   "display_name": "Python (tf-m1)",
   "language": "python",
   "name": "tf-m1"
  },
  "language_info": {
   "codemirror_mode": {
    "name": "ipython",
    "version": 3
   },
   "file_extension": ".py",
   "mimetype": "text/x-python",
   "name": "python",
   "nbconvert_exporter": "python",
   "pygments_lexer": "ipython3",
   "version": "3.10.18"
  }
 },
 "nbformat": 4,
 "nbformat_minor": 5
}
